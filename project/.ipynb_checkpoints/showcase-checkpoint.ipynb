{
 "cells": [
  {
   "cell_type": "markdown",
   "metadata": {},
   "source": [
    "# The Cut in Prolog"
   ]
  },
  {
   "cell_type": "markdown",
   "metadata": {},
   "source": [
    "### Explanation"
   ]
  },
  {
   "cell_type": "markdown",
   "metadata": {},
   "source": [
    "The cut !/0 is a built-in predicate that is used as a goal that always passes but does not allow backtracking past its point. "
   ]
  },
  {
   "cell_type": "markdown",
   "metadata": {},
   "source": [
    "Green cuts don't change how your code functions, but improve efficiency."
   ]
  },
  {
   "cell_type": "markdown",
   "metadata": {},
   "source": [
    "Red cuts change the functioning of your code, so they must be used carefully and they should always be documented."
   ]
  },
  {
   "cell_type": "markdown",
   "metadata": {},
   "source": [
    "The cut can be combined with the built-in predicate 'fail' to handle exceptions. Example taken from \"Learn Prolog Now!\" Section 10.3 by Blackburn, Bos, and Striegnitz:"
   ]
  },
  {
   "cell_type": "code",
   "execution_count": 2,
   "metadata": {},
   "outputs": [
    {
     "name": "stdout",
     "output_type": "stream",
     "text": [
      "\n"
     ]
    }
   ],
   "source": [
    "enjoys(vincent,X)  :-  big_kahuna_burger(X),!,fail. \n",
    "enjoys(vincent,X)  :-  burger(X). "
   ]
  },
  {
   "cell_type": "markdown",
   "metadata": {},
   "source": [
    "The built-in operator \\+ allows efficient exploitation of this functionality by creating a goal that only passes if the following phrase fails. Example taken from the same source:"
   ]
  },
  {
   "cell_type": "code",
   "execution_count": null,
   "metadata": {},
   "outputs": [],
   "source": [
    "enjoys(vincent,X)  :-  burger(X), \\+ big_kahuna_burger(X)."
   ]
  },
  {
   "cell_type": "markdown",
   "metadata": {},
   "source": [
    "### My application"
   ]
  },
  {
   "cell_type": "markdown",
   "metadata": {},
   "source": [
    "I based my application off of Exercise 10.4 from \"Learn Prolog Now!\" by Blackburn, Bos, and Striegnitz. The goal for this problem is to create a predicate route/3 that given a pair of cities and a knowledge base of which cities are connected by trains, computes the route between the two cities. Exact phrasing is as follows:"
   ]
  },
  {
   "cell_type": "code",
   "execution_count": null,
   "metadata": {},
   "outputs": [],
   "source": [
    "Exercise  10.4\n",
    "\n",
    "Recall that in Exercise   3.3 we gave you the following knowledge base:\n",
    "\n",
    "   directTrain(saarbruecken,dudweiler). \n",
    "   directTrain(forbach,saarbruecken). \n",
    "   directTrain(freyming,forbach). \n",
    "   directTrain(stAvold,freyming). \n",
    "   directTrain(fahlquemont,stAvold). \n",
    "   directTrain(metz,fahlquemont). \n",
    "   directTrain(nancy,metz).\n",
    "\n",
    "We asked you to write a recursive predicate travelFromTo/2 that told us\n",
    "when we could travel by train between two towns.\n",
    "\n",
    "Now, it’s plausible to assume that whenever it is possible to take a \n",
    "direct train from A to B, it is also possible to take a direct train \n",
    "from B to A. Add this information to the database. Then write a \n",
    "predicate route/3 which gives you a list of towns that are visited by \n",
    "taking the train from one town to another. For instance:\n",
    "\n",
    "   ?-  route(forbach,metz,Route). \n",
    "   Route  =  [forbach,freyming,stAvold,fahlquemont,metz]"
   ]
  },
  {
   "cell_type": "markdown",
   "metadata": {},
   "source": [
    "My solution is in findRoute.pl"
   ]
  },
  {
   "cell_type": "code",
   "execution_count": null,
   "metadata": {},
   "outputs": [],
   "source": []
  }
 ],
 "metadata": {
  "kernelspec": {
   "display_name": "Python 3",
   "language": "python",
   "name": "python3"
  },
  "language_info": {
   "codemirror_mode": {
    "name": "ipython",
    "version": 3
   },
   "file_extension": ".py",
   "mimetype": "text/x-python",
   "name": "python",
   "nbconvert_exporter": "python",
   "pygments_lexer": "ipython3",
   "version": "3.6.8"
  }
 },
 "nbformat": 4,
 "nbformat_minor": 2
}

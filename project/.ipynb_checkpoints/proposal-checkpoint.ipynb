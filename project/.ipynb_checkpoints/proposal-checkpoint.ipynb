{
 "cells": [
  {
   "cell_type": "markdown",
   "metadata": {
    "collapsed": true
   },
   "source": [
    "# Proposal 1"
   ]
  },
  {
   "cell_type": "markdown",
   "metadata": {},
   "source": [
    "Similar to the work Professor VanderLinden is doing in analyzing tweets and classifying them as positive or negative, I would like to use the IMDB movie review dataset to build a statistical filter that would classify movie reviews as positive or negative. I chose this dataset because I think natural language processing is fascinating, but since it is rather complicated a simple classification project like this one should be manageable. I would be interested to learn based on the outcome of this filter what words actually correlate with positive and negative reviews and if there are any words that are surprising in both sets. My concern in choosing this dataset is that the words are preprocessed into a set of embeddings, so I'm not sure if I can access the words themselves to build my filter. If that is not the case, I may have to choose another dataset."
   ]
  },
  {
   "cell_type": "markdown",
   "metadata": {},
   "source": [
    "I am interested in attempting this task with the statistical method because I have great personal interest in mathematics, causing me to really believe in the statistical method. However, reviews are likely to be quite complicated and I'm not entirely convinced that the statistical method will do as good of a job as perhaps a neural network would do. Thus, my interest is in seeing how good of a job a statistical method will do at classifying reviews as positive or negative. I am hopeful that it will do a good job, showing that a simple, straightforward approach to natural language processing is possible for some situations."
   ]
  },
  {
   "cell_type": "code",
   "execution_count": null,
   "metadata": {},
   "outputs": [],
   "source": []
  }
 ],
 "metadata": {
  "kernelspec": {
   "display_name": "Python 3",
   "language": "python",
   "name": "python3"
  },
  "language_info": {
   "codemirror_mode": {
    "name": "ipython",
    "version": 3
   },
   "file_extension": ".py",
   "mimetype": "text/x-python",
   "name": "python",
   "nbconvert_exporter": "python",
   "pygments_lexer": "ipython3",
   "version": "3.6.8"
  }
 },
 "nbformat": 4,
 "nbformat_minor": 1
}

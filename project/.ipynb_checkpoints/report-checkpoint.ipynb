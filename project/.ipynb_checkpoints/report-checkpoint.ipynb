{
 "cells": [
  {
   "cell_type": "markdown",
   "metadata": {},
   "source": [
    "# The Cut in Prolog"
   ]
  },
  {
   "cell_type": "markdown",
   "metadata": {},
   "source": [
    "## Vision"
   ]
  },
  {
   "cell_type": "markdown",
   "metadata": {},
   "source": [
    "For this project, I pursued learning about “the cut” in Prolog programming. The cut is a special built-in predicate used for controlling Prolog’s automatic backtracking, and it can be employed in different ways for different intended effects. I picked this topic because I am interested in Prolog as a logic programming language, and the cut seemed like an interesting new topic that would add deeply to my understanding of Prolog. After learning about the cut, I explored its use through an application of route planning. I built a system that when given a pair of cities and a list of trains that connect those cities could compute whether or not the cities could be connected by a train route and if so, which trains needed to be taken in what order. This is a seemingly simple domain, but the programming itself was actually quite challenging and the result is both practical and useful."
   ]
  },
  {
   "cell_type": "markdown",
   "metadata": {},
   "source": [
    "## Background"
   ]
  },
  {
   "cell_type": "markdown",
   "metadata": {},
   "source": [
    "Prolog is a logic programming language that operates in the domain of first-order logic, which means that it recognizes objects, predicates, functions, and variables (class notes). Although my project focused on Prolog’s pure logic uses, the language has many applications. In terms of artificial intelligence, Prolog is used in theorem proving, expert systems, and natural language processing (\"Prolog\"). Prolog works well for these uses because Prolog statements are either facts or rules which the user invokes with queries, making Prolog relatively easy to read and understand. Most of the Prolog that was used in my project application was covered in our course study of Prolog, and I used Prolog because I find logic very interesting. I wanted to know more about practical applications and the powerful tools that Prolog has to offer, so I chose “the cut” as an interesting field I had not yet explored."
   ]
  },
  {
   "cell_type": "markdown",
   "metadata": {},
   "source": [
    "I learned to use “the cut” by studying Chapter 10 of Learn Prolog Now! by Blackburn, Bos, and Striegnitz. The cut is the built-in predicate !/0 which is controls Prolog’s automatic backtracking for uses like finding a singular solution, increasing efficiency, excluding some solutions, and negation. The cut is applied differently in each of these cases, although all uses of the cut fall into two categories: those that actually change the function of a program and those that cause side effects. The use for negation is a special case and has its own operator, although it is still considered an application of the cut."
   ]
  },
  {
   "cell_type": "markdown",
   "metadata": {},
   "source": [
    "The functionality of the cut is relatively simple: it locks the system into unification choices that have been made on the same line but to the left of this symbol. It does this because the !/0 goal always passes, but it doesn’t allow choices made before it on the same line to be backtracked. So, should a program hit the ! symbol, evaluate the next goal and fail, then attempt to backtrack, the program will fail when the ! symbol is hit in the backtracking process. The program is allowed to backtrack to before the !, but it must go back far enough to change a unification made on a previous line. Looking at a search tree of the program that includes the cut makes its effect more clear: when the cut is reached, all unexplored branches that branch off from decisions made on this line of code are cut off as options. The backtracking cannot explore these as options, so in order to change previous decisions it must backtrack past all decisions made on this line to an earlier one before changing anything. In this way the unifications made on that line of programming cannot be changed after the cut has been hit. This functionality works the same in both uses of the cut, but effect can be different based on the context."
   ]
  },
  {
   "cell_type": "markdown",
   "metadata": {},
   "source": [
    "The first use of the cut is cuts that do not change the function of a program. These are referred to as green cuts and are most often used to improve the efficiency of a program (Blackburn). This occurs, for example, when a function has multiple definitions, but only one set of goals will be satisfied at a time. In this case, one can add a green cut to the end of the first goal set so that if a solution is found by the goals on that line, the program will recognize that solution and not search for others. Learn Prolog Now! has an example of this in Section 10.2 in the function defined on two lines: max(X,Y,Y)  :-  X  =<  Y,!. and max(X,Y,X)  :-  X>Y. (Blackburn). For this function, Y is the maximum of X and Y if X is smaller than Y, or that is not the case so X must be bigger. The programmer thus places a cut at the end of the first line to tell Prolog that if the first line is true, the second must be false, so it should not be considered. This improves efficiency because Prolog will not backtrack and pursue looking for solutions on the second rule definition of max/3, thus saving time and computing power. This cut also tells the code not to consider some solutions, since if one line is the correct case, the other must not be, and the placement of the cut at the first line communicates that. However, it is important to note that this placement of the cut does not change the function of the rule definition. Nothing about the computation changes, other than that backtracking on this line is not allowed. This is what makes it a green cut."
   ]
  },
  {
   "cell_type": "markdown",
   "metadata": {},
   "source": [
    "If a cut is not a green cut, it must be a red cut. Red cuts change the functioning of the rule they are a part of in some way that is likely significant. In many cases these cuts are considered dangerous, because if not well documented it may be unclear why the cut is present, but if it were to be removed the code would function differently or perhaps not at all (Blackburn). The purpose of this kind of cut is difficult to explain because it may be employed for any number of reasons based on when and how the programmer wants to prevent backtracking. One specific use could be for exceptions, especially when combined with another built-in predicate, fail/0. We see this functionality in this example from Section 10.3 of Learn Prolog Now!: enjoys(vincent,X)  :-  big_kahuna_burger(X),!,fail. \n",
    "enjoys(vincent,X)  :-  burger(X). (Blackburn). This example translates to the logical statement “Vincent enjoys all burgers except big kahuna burgers,” and is worked out in the code by first checking if the potential unification for X is a big kahuna burger and if it is, failing. Otherwise, the code moves on and simply checks if X is a burger before declaring that Vincent enjoys it. Prolog in fact makes “negation as failure” even easier by providing the \\+ operator which causes the unification to fail if the following term passes evaluation. Employing this, the previous two-line rule can be rewritten on one line as “enjoys(vincent,X)  :-  burger(X), \\+  big_kahuna_burger(X).” (Blackburn). In this way, the cut changes the way the program works by insisting that the code fails and cannot backtrack if X is a big kahuna burger. This is a unique way of exception handling that can only be done through the use of the cut, but it is only one example of the many ways that red cuts can be employed."
   ]
  },
  {
   "cell_type": "markdown",
   "metadata": {},
   "source": [
    "## Implementation and Results"
   ]
  },
  {
   "cell_type": "markdown",
   "metadata": {},
   "source": [
    "My code for this project implements a solution to the problem posed in Learn Prolog Now! Exercise 10.4 by Blackburn, Bos, and Striegnitz. This problem provides a knowledge base of trains that connect pairs of cities and my code defines a predicate route/3 that given a pair of cities provides the route to reach one city from the other by train. This problem uses the cut in a few ways which make the problem more efficient and disregard recursive solutions. Some examples of this exist at the end of each definition for route1/4 in my code, found in findRoute.pl. The cuts at the end are green cuts because they do not change the way the rules function, but they do stop the program from looking for additional solutions or pursuing recursive runaway solutions once a solution has been found. Each of the definitions also include the phrase “\\+ member(X,Visited)”, which demonstrates the use of negation as failure by causing the code to fail if a city is revisited in the path between two cities, thus preventing inefficient solutions."
   ]
  },
  {
   "cell_type": "markdown",
   "metadata": {},
   "source": [
    "One of the hurdles I faced in solving this exercise was getting my final route to be calculated all within one list. Because of the recursive nature of my predicate, I was at first only able to get the list of cities in the correct order in a series of nested lists. To fix this, I needed to append items to lists, which I learned to do by reading Chapter 6 of Learn Prolog Now! titled “More Lists”. I was able to use code from this to neatly and efficiently print the route between cities. Another major issue was figuring out how to prevent cities from being revisited, the solution to which is mentioned above. Before this step was implemented, Prolog would detect when some city pairings left opportunity for infinite recursion, which caused Prolog to quit. If I hadn’t figured this step out, my code would not be functional, which shows how important using the cut can be in even a rather simple problem. "
   ]
  },
  {
   "cell_type": "markdown",
   "metadata": {},
   "source": [
    "My solution is interesting because while its current form is specifically tailored for this question, the result could be applied to a wider range of topics. Essentially, my code finds a path between two nodes on an acyclic undirected graph, which is a broad field of application. Perhaps in future work, I could tweak my code to deal with directed graphs, opening it to even more practical use. "
   ]
  },
  {
   "cell_type": "markdown",
   "metadata": {},
   "source": [
    "## Implications"
   ]
  },
  {
   "cell_type": "markdown",
   "metadata": {},
   "source": [
    "In my study of Prolog, logic programming, and the cut, I couldn’t help but think about the tendency our society has to treat everything like data. My application specifically is probably not a problem, but we are in an age where we would like all things to be data so that we could let computer analyze our world and tell us things about it. The prevalence of Prolog and machine learning show how quick we are to let computers handle real world problems. I worry for one that we are too willing to let computers do our thinking for us, but I am perhaps more concerned that this tendency implies a cultural belief that all things can be treated objectively. The fact is, many things ought not to be treated as data, written into knowledge bases, and passed to a computer to make decisions about. We think that our computerized systems are free from bias because they don’t know what the data means, but that is exactly the problem: our data does have meaning and some of it has so much meaning that it ought not to be treated objectively. I think by digitizing everything, our society devalues life’s complexity and disregards the beauty in subjectivity. I think good Christian programmers should think critically about what types of decisions should or should not be delegated to computers, like ones that concern justice and require fair treatment for people. Even when we can build systems that will analyze situations for us, we should reserve some decisions for human insight, allowing room for justice and grace."
   ]
  },
  {
   "cell_type": "markdown",
   "metadata": {},
   "source": [
    "## Bibliography"
   ]
  },
  {
   "cell_type": "markdown",
   "metadata": {},
   "source": [
    "Blackburn, Patrick, et al. *Learn Prolog Now!*, 2012. Accessed 11 May 2019."
   ]
  },
  {
   "cell_type": "markdown",
   "metadata": {},
   "source": [
    "\"Prolog.\" *Wikipedia*, Wikipedia, 6 May 2019. Accessed 11 May 2019."
   ]
  },
  {
   "cell_type": "code",
   "execution_count": null,
   "metadata": {},
   "outputs": [],
   "source": []
  }
 ],
 "metadata": {
  "kernelspec": {
   "display_name": "Python 3",
   "language": "python",
   "name": "python3"
  },
  "language_info": {
   "codemirror_mode": {
    "name": "ipython",
    "version": 3
   },
   "file_extension": ".py",
   "mimetype": "text/x-python",
   "name": "python",
   "nbconvert_exporter": "python",
   "pygments_lexer": "ipython3",
   "version": "3.6.8"
  }
 },
 "nbformat": 4,
 "nbformat_minor": 2
}

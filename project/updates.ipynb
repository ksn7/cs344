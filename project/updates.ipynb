{
 "cells": [
  {
   "cell_type": "markdown",
   "metadata": {},
   "source": [
    "# Updates since Project Walkthrough"
   ]
  },
  {
   "cell_type": "markdown",
   "metadata": {},
   "source": [
    "Since the project walkthrough, I have settled on Exercise 10.4 from LPN by Blackburn, Bos, and Striegnitz to be the basis of my application. I first was able to make a version of the application that could find the correct route between two cities, but only if the cities were listed in a certain order (reverse how they appeared in the original given knowledge base: for example, this system could compute the route from Nancy to Saarbruecken, but not the other way around). However, this version produced routes that were in the form of nested lists. To get around this error, I went back in the LPN book to Chapter 6 \"More Lists\", where I discovered the append function for lists. I read Section 6.1 to fully understand this function, then was able to adapt it for my use in making an updated route function that calculated routes in the form of single list. This is the current version that I have running, which still only computes the route when the cities come in a certain order. I will hopefully fix this issue by presentation time. "
   ]
  },
  {
   "cell_type": "code",
   "execution_count": null,
   "metadata": {},
   "outputs": [],
   "source": []
  }
 ],
 "metadata": {
  "kernelspec": {
   "display_name": "Python 3",
   "language": "python",
   "name": "python3"
  },
  "language_info": {
   "codemirror_mode": {
    "name": "ipython",
    "version": 3
   },
   "file_extension": ".py",
   "mimetype": "text/x-python",
   "name": "python",
   "nbconvert_exporter": "python",
   "pygments_lexer": "ipython3",
   "version": "3.6.8"
  }
 },
 "nbformat": 4,
 "nbformat_minor": 2
}

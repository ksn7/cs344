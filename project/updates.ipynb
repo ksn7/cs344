{
 "cells": [
  {
   "cell_type": "markdown",
   "metadata": {},
   "source": [
    "# Updates since Project Walkthrough"
   ]
  },
  {
   "cell_type": "markdown",
   "metadata": {},
   "source": [
    "Since the project walkthrough, I have settled on Exercise 10.4 from LPN by Blackburn, Bos, and Striegnitz to be the basis of my application. I first was able to make a version of the application that could find the correct route between two cities, but only if the cities were listed in a certain order (reverse how they appeared in the original given knowledge base: for example, this system could compute the route from Nancy to Saarbruecken, but not the other way around). However, this version produced routes that were in the form of nested lists. To get around this error, I went back in the LPN book to Chapter 6 \"More Lists\", where I discovered the append function for lists. I read Section 6.1 to fully understand this function, then was able to adapt it for my use in making an updated route function that calculated routes in the form of single list. This version of my code still only calculated the routes if cities were listed in the correct order and otherwise would throw up an error about possible infinite recursion and refuse the calculation. After much struggle, I pulled this task off by having my route function call a secondary function, route1/4 which had an extra variable that tracked all cities that had been visited. In this version, the route1 function adds cities to the Visited list as they are visited and uses the negation as failure cut to abort all possibilities where a city would be revisited. This fixed the problem of infinite recursion and now runs correctly. This is the version of the code that will be presented at the showcase."
   ]
  },
  {
   "cell_type": "code",
   "execution_count": null,
   "metadata": {},
   "outputs": [],
   "source": []
  }
 ],
 "metadata": {
  "kernelspec": {
   "display_name": "Python 3",
   "language": "python",
   "name": "python3"
  },
  "language_info": {
   "codemirror_mode": {
    "name": "ipython",
    "version": 3
   },
   "file_extension": ".py",
   "mimetype": "text/x-python",
   "name": "python",
   "nbconvert_exporter": "python",
   "pygments_lexer": "ipython3",
   "version": "3.6.8"
  }
 },
 "nbformat": 4,
 "nbformat_minor": 2
}

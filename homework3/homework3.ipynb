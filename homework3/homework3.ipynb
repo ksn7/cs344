{
 "cells": [
  {
   "cell_type": "markdown",
   "metadata": {
    "collapsed": true
   },
   "source": [
    "# Question 1"
   ]
  },
  {
   "cell_type": "markdown",
   "metadata": {},
   "source": [
    "##### In class, we found that it was not possible to create a neural network that could compute the XOR function. In class, we were attempting this using a single layer neural network, but even with multiple layers XOR cannot be computed. This is because XOR is not linearly separable, which means it cannot be computed with a linear activation function. Functions like AND and OR are linearly separable, which means that when their input data is represented on a plane, a line can be drawn to separate what sets of inputs should produce 1s from those that should produce 0s. This cannot be done for XOR. In this case, it is because the valueo of XOR cannot be computed without the knoweldge of both input values, which is not the case of AND and OR. (By this, I mean that AND is always 0 if either input is 0, and OR is alwasy 1 if either input is 1, so you can know the output while only knowing one of the input values). XOR can only be computed when you know the values of both inputs, and there is no way to assign weights to them so that XOR computes 1 when only one input is a 1. This can be done when using a non-linear activation function."
   ]
  },
  {
   "cell_type": "markdown",
   "metadata": {},
   "source": [
    "# Question 2"
   ]
  },
  {
   "cell_type": "markdown",
   "metadata": {},
   "source": [
    "### Part a"
   ]
  },
  {
   "cell_type": "code",
   "execution_count": null,
   "metadata": {},
   "outputs": [],
   "source": [
    "import pandas as pd\n",
    "import numpy\n",
    "\n",
    "boston_df = pd.read_csv(\"https://raw.githubusercontent.com/selva86/datasets/master/BostonHousing.csv\")\n",
    "(rows, columns) = boston_df.shape\n",
    "\n",
    "print(\"Number of rows: \" + str(rows))\n",
    "print(\"Number of columns: \" + str(columns))"
   ]
  },
  {
   "cell_type": "markdown",
   "metadata": {},
   "source": [
    "### Part b"
   ]
  },
  {
   "cell_type": "code",
   "execution_count": null,
   "metadata": {},
   "outputs": [],
   "source": []
  }
 ],
 "metadata": {
  "kernelspec": {
   "display_name": "Python 2",
   "language": "python",
   "name": "python2"
  },
  "language_info": {
   "codemirror_mode": {
    "name": "ipython",
    "version": 2
   },
   "file_extension": ".py",
   "mimetype": "text/x-python",
   "name": "python",
   "nbconvert_exporter": "python",
   "pygments_lexer": "ipython2",
   "version": "2.7.6"
  }
 },
 "nbformat": 4,
 "nbformat_minor": 0
}

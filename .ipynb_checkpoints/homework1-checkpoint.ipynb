{
 "cells": [
  {
   "cell_type": "markdown",
   "metadata": {
    "collapsed": true
   },
   "source": [
    "# Question 1: "
   ]
  },
  {
   "cell_type": "markdown",
   "metadata": {},
   "source": [
    "Introspection would not do a good job of informing AI efforts of modelling human cognitive behavior for a number of reasons, the first of which is bias. I believe that it is impossible for a person to examine their own psyche and mental process in an unbiased way. I find it hard to imagine that anyone has truly neutral feelings toward themselves, whether it be liking or disliking, and any non-neutral emotion toward a person introduces bias into their analysis. Furthermore, many mental health professionals will not engage in treatment or examining of anyone they have a personal history with because it is difficult for them to eliminate their bias because of that history. No one has more history with any person other than themself! Because of this unavoidable bias, I don't think any person could examine their own thought process and come out of the situation with an accurate, unbiased account of how it works. It simply doesn't seem possible. \n"
   ]
  },
  {
   "cell_type": "markdown",
   "metadata": {},
   "source": [
    "A secondary reason that introspection is a bad system to base AI off of is that people are different and they think differently, so even if a person's thought could be correctly analyzed and represented in AI, there's no guarantee that that depiction of a human brain would think and process in a way that is applicable to everyone. There would need to be a different AI for every person, which is an impossible feat. There is simply no way to model the human psyche digitally, especially when powered by introspection."
   ]
  },
  {
   "cell_type": "markdown",
   "metadata": {},
   "source": [
    "# Question 2: "
   ]
  },
  {
   "cell_type": "markdown",
   "metadata": {},
   "source": [
    "State: current path of cities, including its length"
   ]
  },
  {
   "cell_type": "markdown",
   "metadata": {},
   "source": [
    "Action: Optional actions include all unvisited cities that could be visited next. The result of the action is the city added on to the path."
   ]
  },
  {
   "cell_type": "code",
   "execution_count": 20,
   "metadata": {},
   "outputs": [
    {
     "name": "stdout",
     "output_type": "stream",
     "text": [
      "Distance dictionary: \n",
      "{('Atlanta', 'Baltimore'): 9, ('Atlanta', 'Cadillac'): 7, ('Atlanta', 'Denver'): 8, ('Atlanta', 'Elmhurst'): 6, ('Atlanta', 'Franklin'): 9, ('Atlanta', 'Georgetown'): 6, ('Atlanta', 'Helena'): 4, ('Baltimore', 'Cadillac'): 2, ('Baltimore', 'Denver'): 4, ('Baltimore', 'Elmhurst'): 7, ('Baltimore', 'Franklin'): 5, ('Baltimore', 'Georgetown'): 9, ('Baltimore', 'Helena'): 6, ('Cadillac', 'Denver'): 6, ('Cadillac', 'Elmhurst'): 3, ('Cadillac', 'Franklin'): 9, ('Cadillac', 'Georgetown'): 4, ('Cadillac', 'Helena'): 6, ('Denver', 'Elmhurst'): 9, ('Denver', 'Franklin'): 1, ('Denver', 'Georgetown'): 4, ('Denver', 'Helena'): 2, ('Elmhurst', 'Franklin'): 9, ('Elmhurst', 'Georgetown'): 3, ('Elmhurst', 'Helena'): 2, ('Franklin', 'Georgetown'): 6, ('Franklin', 'Helena'): 6, ('Georgetown', 'Helena'): 7}\n",
      "\n",
      "Hill-climbing solution       Order: ['Atlanta', 'Baltimore', 'Cadillac', 'Elmhurst', 'Georgetown', 'Franklin', 'Denver', 'Helena', 'Atlanta']\tDistance: 30\n",
      "Simulated annealing solution Order: ['Atlanta', 'Elmhurst', 'Helena', 'Denver', 'Franklin', 'Baltimore', 'Cadillac', 'Georgetown', 'Atlanta']\tDistance: 28\n"
     ]
    }
   ],
   "source": [
    "\"\"\"\n",
    "This module implements local search on the Travelling Salesman Problem\n",
    "Adapted from abs.py by kvlinden for lab02, cs344\n",
    "\n",
    "@author: ksn7\n",
    "@version: 19feb2019\n",
    "\"\"\"\n",
    "\n",
    "from search import Problem, hill_climbing, simulated_annealing, \\\n",
    "    exp_schedule, genetic_search\n",
    "from random import randrange\n",
    "import math\n",
    "\n",
    "\n",
    "class TSP(Problem):\n",
    "    \"\"\"\n",
    "    State: current path of cities with the lengths between them\n",
    "    Move: list of cities that could still be visited\n",
    "    \"\"\"\n",
    "    \n",
    "    # Need to save ordered path list and distances between cities\n",
    "    def __init__(self, initial, distances):\n",
    "        self.initial = initial\n",
    "        self.distances = distances\n",
    "        \n",
    "    # Each action tells you which city to swap with the city sequentially after it. \n",
    "    # Ex) action 2 would switch cities 2 and 3 in the list\n",
    "    # First and last cities cannot be swapped with any others\n",
    "    def actions(self, state):\n",
    "        choices = []\n",
    "        for i in range(1, len(state)-1):\n",
    "            for j in range(1, len(state)-1):\n",
    "                if i != j:\n",
    "                    choices.append((i,j))\n",
    "        return choices\n",
    "    \n",
    "    # result receives a state and a choice of which first element to swap\n",
    "    # returns list with chosen element and its successor swapped\n",
    "    def result(self, state, choice):\n",
    "        new_state = state[:]\n",
    "        swap1 = new_state[choice[0]]\n",
    "        swap2 = new_state[choice[1]]\n",
    "        new_state[choice[0]] = swap2\n",
    "        new_state[choice[1]] = swap1\n",
    "        return new_state\n",
    "    \n",
    "    # Check pair of cities in both orders to find dictionary entry, then return path cost plus added distance\n",
    "    def value(self, state):\n",
    "        distance = 0\n",
    "        for i in range(0, len(state)-1):\n",
    "            c1 = state[i]\n",
    "            c2 = state[i+1]\n",
    "            if (c1, c2) in self.distances:\n",
    "                distance += self.distances[(c1, c2)]\n",
    "            else:\n",
    "                distance += self.distances[(c2, c1)]\n",
    "        negated_dist = distance * -1\n",
    "        return negated_dist\n",
    "\n",
    "\n",
    "if __name__ == '__main__':\n",
    "    \n",
    "    # Given list of cities\n",
    "    cities = ['Atlanta', 'Baltimore', 'Cadillac', 'Denver', 'Elmhurst', 'Franklin', 'Georgetown', 'Helena']\n",
    "    \n",
    "    # copy over given list of cities, appending first to end to make a loop\n",
    "    initial = cities[:]\n",
    "    initial.append(cities[0])\n",
    "    \n",
    "    # Create an empty dictionary, then fill it with pair of all cities and random distances between them\n",
    "    distances = {}\n",
    "    for i in range(0, len(cities)):\n",
    "        for j in range(0, len(cities)):\n",
    "            c1 = cities[i]\n",
    "            c2 = cities[j]\n",
    "            if c1 != c2:\n",
    "                if (c2, c1) not in distances:\n",
    "                    distances[(c1, c2)] = randrange(1, 10, 1)\n",
    "    print('Distance dictionary: ')\n",
    "    print(distances)\n",
    "    print()\n",
    "    \n",
    "    p = TSP(initial, distances)\n",
    "\n",
    "    # Solve the problem using hill-climbing.\n",
    "    hill_solution = hill_climbing(p)\n",
    "    print('Hill-climbing solution       Order: ' + str(hill_solution)\n",
    "          + '\\tDistance: ' + str(-1 * p.value(hill_solution))\n",
    "          )\n",
    "\n",
    "    # Solve the problem using simulated annealing.\n",
    "    annealing_solution = simulated_annealing(\n",
    "        p,\n",
    "        exp_schedule(k=20, lam=0.005, limit=1000)\n",
    "    )\n",
    "    print('Simulated annealing solution Order: ' + str(annealing_solution)\n",
    "          + '\\tDistance: ' + str(-1 * p.value(annealing_solution))\n",
    "          )\n"
   ]
  },
  {
   "cell_type": "markdown",
   "metadata": {},
   "source": [
    "Simulated annealing works better because hill-climbing is guaranteed to find a local minimum. However, since this problem can be so complicated, you are more likely to find an optimal solution if you sometimes take worse choices, shaking up the order of the cities to find a path that is signficantly shorter. The hill-climbing solution makes fewer changes and is less likely to find an optimal solution."
   ]
  },
  {
   "cell_type": "markdown",
   "metadata": {},
   "source": [
    "# Question 3:"
   ]
  },
  {
   "cell_type": "code",
   "execution_count": 12,
   "metadata": {},
   "outputs": [
    {
     "name": "stdout",
     "output_type": "stream",
     "text": [
      "{'108': ('Schuurman', 'tth830', 'sb382'), '112': ('Adams', 'mwf900', 'nh253'), '212': ('Plantinga', 'mwf1030', 'nh253'), '214': ('Adams', 'tth830', 'nh253'), '384': ('Schuurman', 'mwf1230', 'nh253'), '394': ('Bailey', 'mwf230', 'sb382')}\n"
     ]
    }
   ],
   "source": [
    "\"\"\"\"\n",
    "This module implements course scheduling in the form of a CSP\n",
    "Adapted from the Zebra function in csp.py from CS344 lab03\n",
    "\n",
    "@author Kelsey Brouwer\n",
    "@version 20feb2019\n",
    "\"\"\"\n",
    "\n",
    "from csp import CSP, parse_neighbors, min_conflicts\n",
    "\n",
    "def Schedule():\n",
    "    \n",
    "    \"\"\"Return an instance of the Course Scheduling Puzzle.\"\"\"\n",
    "    # Class info includes professor, class times, and classrooms\n",
    "    profs = 'Adams Bailey Plantinga Schuurman'.split()\n",
    "    times = 'mwf900 mwf1030 mwf1230 mwf230 tth830'.split()\n",
    "    rooms = 'nh253 sb382'.split()\n",
    "    classes = '108 112 212 214 384 394'.split()\n",
    "    \n",
    "    \n",
    "    # Create all options for professor, time, and room. These will be our domains\n",
    "    domains = {}\n",
    "    options = []\n",
    "    for i in range(0, len(profs)):\n",
    "        for j in range(0, len(times)):\n",
    "            for k in range(0, len(rooms)):\n",
    "                options.append((profs[i], times[j], rooms[k]))\n",
    "                \n",
    "    for i in range(0, len(classes)):\n",
    "        domains[classes[i]] = options\n",
    "\n",
    "    # Neighbors tells which variables interact and need to be checked in constraints\n",
    "    neighbors = parse_neighbors('108: 112 212 214 384 394; 112: 212 214 384 394; 212: 214 384 394; 214: 384 394; 384: 394', classes)\n",
    "\n",
    "    # Function to check the course assignments meet the constraints\n",
    "    def class_constraint(A, a, B, b, recurse=0):\n",
    "        \n",
    "        # Pull out all important course information\n",
    "        prof1 = a[0]\n",
    "        time1 = a[1]\n",
    "        room1 = a[2]\n",
    "        prof2 = b[0]\n",
    "        time2 = b[1]\n",
    "        room2 = b[2]       \n",
    "        \n",
    "        if (A == '108') and (prof1 != 'Schuurman'):\n",
    "            return False\n",
    "        if (A == '112') and (prof1 != 'Adams'):\n",
    "            return False\n",
    "        if (A == '212') and (prof1 != 'Plantinga'):\n",
    "            return False\n",
    "        if (A == '214') and (prof1 != 'Adams'):\n",
    "            return False\n",
    "        if (A == '384') and (prof1 != 'Schuurman'):\n",
    "            return False\n",
    "        if (A == '394') and (prof1 != 'Bailey'):\n",
    "            return False\n",
    "        if (A != B) and (prof1 == prof2) and (time1 == time2):\n",
    "            return False\n",
    "        if (A != B) and (time1 == time2) and (room1 == room2):\n",
    "            return False     \n",
    "        if recurse == 0:\n",
    "            return class_constraint(B, b, A, a, 1)\n",
    "        return True\n",
    "    return CSP(classes, domains, neighbors, class_constraint)\n",
    "\n",
    "puzzle = Schedule()\n",
    "solution = min_conflicts(puzzle)\n",
    "print(solution)"
   ]
  },
  {
   "cell_type": "markdown",
   "metadata": {},
   "source": [
    "##### "
   ]
  }
 ],
 "metadata": {
  "kernelspec": {
   "display_name": "Python 3",
   "language": "python",
   "name": "python3"
  },
  "language_info": {
   "codemirror_mode": {
    "name": "ipython",
    "version": 3
   },
   "file_extension": ".py",
   "mimetype": "text/x-python",
   "name": "python",
   "nbconvert_exporter": "python",
   "pygments_lexer": "ipython3",
   "version": "3.6.8"
  }
 },
 "nbformat": 4,
 "nbformat_minor": 1
}
